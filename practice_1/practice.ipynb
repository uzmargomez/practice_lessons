{
 "cells": [
  {
   "cell_type": "markdown",
   "metadata": {},
   "source": [
    "# Practice 1"
   ]
  },
  {
   "cell_type": "code",
   "execution_count": null,
   "metadata": {},
   "outputs": [],
   "source": [
    "# The following lines import two of the most used\n",
    "# python libraries \n",
    "import pandas as pd\n",
    "import numpy as np"
   ]
  },
  {
   "cell_type": "markdown",
   "metadata": {},
   "source": [
    "In order to define a function in python, you need to use the following syntax\n",
    "\n",
    "```python\n",
    "def name_of_the_function(variables_separated_by_a_comma):\n",
    "    # <- The space created before the hash sign is created using the tab key,\n",
    "    # not four spaces!! This is called indent\n",
    "\n",
    "    # Here you define some operations with your variables\n",
    "    # and at the end, you can either return a final result\n",
    "    # or return nothing, depending on what you want your function\n",
    "    # to do\n",
    "\n",
    "    return final_result\n",
    "```\n",
    "\n",
    "Let's create an example function"
   ]
  },
  {
   "cell_type": "code",
   "execution_count": null,
   "metadata": {},
   "outputs": [],
   "source": [
    "def return_complete_name(forname, surname):\n",
    "    \"\"\"\n",
    "    This function takes the forname and surname of a person and returns\n",
    "    the full name of the person.\n",
    "    \"\"\"\n",
    "    return forname + \" \" + surname"
   ]
  },
  {
   "cell_type": "markdown",
   "metadata": {},
   "source": [
    "Let's test our function"
   ]
  },
  {
   "cell_type": "code",
   "execution_count": null,
   "metadata": {},
   "outputs": [],
   "source": [
    "return_complete_name(\"Uzmar\", \"Gomez\")"
   ]
  },
  {
   "cell_type": "markdown",
   "metadata": {},
   "source": [
    "## Create your function"
   ]
  },
  {
   "cell_type": "markdown",
   "metadata": {},
   "source": [
    "The sigmoid function has the following form:\n",
    "\n",
    "$$\\phi(z)=\\frac{1}{1 + e^{-z}}$$\n",
    "\n",
    "Create a function that takes the variable $z$, and returns the sigmoid function evaluated in $z$."
   ]
  },
  {
   "cell_type": "code",
   "execution_count": null,
   "metadata": {},
   "outputs": [],
   "source": [
    "def phi(z):\n",
    "    # YOUR CODE HERE\n",
    "    # Tip: Look for how to calculate the exponential of\n",
    "    #      a number using the Numpy library that you \n",
    "    #      imported at the beginning\n",
    "    \n",
    "    return 0"
   ]
  },
  {
   "cell_type": "code",
   "execution_count": null,
   "metadata": {},
   "outputs": [],
   "source": [
    "assert phi(0)==0.5, \"You did something wrong! Check the definition of your function\"\n",
    "assert np.isclose(phi(np.linspace(-2,2,10)),np.array([0.11920292, 0.17428532, 0.2476638 , 0.33924363, 0.44467194,\n",
    "       0.55532806, 0.66075637, 0.7523362 , 0.82571468, 0.88079708])).all(), \"You did something wrong! You should use the numpy library to get the exponential of a number\""
   ]
  },
  {
   "cell_type": "markdown",
   "metadata": {},
   "source": [
    "If you see an assertion error, that means you did something incorrectly! If you see nothing in the output, that means you got the definition of the function right."
   ]
  }
 ],
 "metadata": {
  "kernelspec": {
   "display_name": "Python 3 (ipykernel)",
   "language": "python",
   "name": "python3"
  },
  "language_info": {
   "codemirror_mode": {
    "name": "ipython",
    "version": 3
   },
   "file_extension": ".py",
   "mimetype": "text/x-python",
   "name": "python",
   "nbconvert_exporter": "python",
   "pygments_lexer": "ipython3",
   "version": "3.8.10"
  }
 },
 "nbformat": 4,
 "nbformat_minor": 2
}
